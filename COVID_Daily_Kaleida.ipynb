{
 "cells": [
  {
   "cell_type": "code",
   "execution_count": 9,
   "metadata": {},
   "outputs": [],
   "source": [
    "from bs4 import BeautifulSoup\n",
    "import requests\n",
    "import numpy as np\n",
    "import pandas as pd\n",
    "import plotly.graph_objects as go\n",
    "import datetime\n",
    "from datetime import date\n",
    "import time\n",
    "from ipywidgets import AppLayout, Button\n",
    "from IPython.display import HTML, display, Markdown\n",
    "from bqplot import pyplot as plt\n",
    "import ipyvuetify as v\n",
    "import ipywidgets as widgets\n",
    "from traitlets import Unicode, List"
   ]
  },
  {
   "cell_type": "code",
   "execution_count": 2,
   "metadata": {},
   "outputs": [],
   "source": [
    "# General Variables\n",
    "today = date.today()\n",
    "fdate = date.today().strftime(\"%m-%d-%Y\")\n",
    "time = time.strftime(\"%H:%M:%S\")\n",
    "# Input/Storage\n",
    "INPUT = \"../Data/Input/\"\n",
    "OUTPUT = \"../Data/Output/\"\n",
    "GRAPHS = \"../Data/Graphs/\""
   ]
  },
  {
   "cell_type": "code",
   "execution_count": null,
   "metadata": {},
   "outputs": [],
   "source": []
  },
  {
   "cell_type": "markdown",
   "metadata": {},
   "source": [
    "# Kaleida Health - COVID 19 Daily Report\n",
    "<hr>"
   ]
  },
  {
   "cell_type": "code",
   "execution_count": 3,
   "metadata": {},
   "outputs": [],
   "source": [
    "# Global Data\n",
    "# URL\n",
    "# 1 Request URL\n",
    "url = 'https://www.worldometers.info/coronavirus/'\n",
    "page = requests.get(url)\n",
    "# 2 Parse HTML content\n",
    "soup = BeautifulSoup(page.text, 'html.parser')\n",
    "# 3 Store the data\n",
    "data = {}\n",
    "#Get the table having the class country table\n",
    "table = soup.find(\"table\", attrs={\"id\": \"main_table_countries\"})\n",
    "table_data = table.tbody.find_all(\"tr\")  \n",
    "# Get data into table\n",
    "df = []\n",
    "for i in range(0,len(table_data)):\n",
    "    for td in table_data[i].find_all(\"td\"):\n",
    "        # remove any newlines and extra spaces from left and right\n",
    "        df.append(td.text.replace('\\n', ' ').strip())\n",
    "\n",
    "\n",
    "countries = pd.DataFrame([])\n",
    "for i in range(0, len(df), 9):\n",
    "    countries = countries.append(pd.DataFrame({'Country/Other': df[i], 'Total Cases': df[i+1], 'New Cases':df[i+2],\n",
    "                                              'Total Deaths':df[i+3], 'New Deaths':df[i+4], 'Rate 1M Pop':df[i+8]},\n",
    "                                              index =[0]), ignore_index=True)\n",
    "\n",
    "# Data Modifications and calculations\n",
    "# Columns to convert to string\n",
    "cols = ['Total Cases', 'New Cases', 'Total Deaths', 'New Deaths', 'Rate 1M Pop']\n",
    "# Replace + and , for numeric values\n",
    "countries = countries.applymap(lambda x: x.replace('+', ''))\n",
    "countries = countries.applymap(lambda x: x.replace(',', ''))\n",
    "# Convert to numeric\n",
    "countries[cols] = countries[cols].apply(pd.to_numeric, errors='coerce', axis=1)\n",
    "# Add mortality rate column\n",
    "countries['Mor_Rate'] = round((countries['Total Deaths']/countries['Total Cases'])*100,2)\n",
    "# Calculate mean mortality rate on top affected countries\n",
    "df1 = countries[0:9]\n",
    "mean_MR = np.mean(df1['Mor_Rate'])\n",
    "\n",
    "# Output data per day\n",
    "#countries.to_csv(OUTPUT+'cases_world'+fdate+'.csv', index=False)"
   ]
  },
  {
   "cell_type": "code",
   "execution_count": 4,
   "metadata": {},
   "outputs": [],
   "source": [
    "# Extract data for US\n",
    "# URL\n",
    "# 1 Request URL\n",
    "url = 'https://www.cdc.gov/coronavirus/2019-ncov/cases-in-us.html'\n",
    "page = requests.get(url)\n",
    "# 2 Parse HTML content\n",
    "soup = BeautifulSoup(page.text, 'html.parser')\n",
    "# 3 Extract cases data\n",
    "cdc_data = soup.find_all(attrs={\"class\": \"card-body bg-white\"})\n",
    "\n",
    "# Create dataset of extracted data\n",
    "df = []\n",
    "for ul in cdc_data:\n",
    "    for li in ul.find_all('li'):\n",
    "        df.append(li.text.replace('\\n', ' ').strip())\n",
    "\n",
    "        \n",
    "# US specific cases - CDC\n",
    "cases_us = df[0].split(': ')\n",
    "# Replace + and , for numeric values\n",
    "cases_us = int(cases_us[1].replace(',', ''))\n",
    "\n",
    "# Total US deaths - CDC\n",
    "deaths_us = df[1].split(': ')\n",
    "deaths_us = pd.to_numeric(deaths_us[1])\n",
    "# Calculate mortality rate\n",
    "us_MR = round((deaths_us/cases_us)*100,2)\n",
    "\n",
    "# Create table\n",
    "data = {'Cases': [cases_us],\n",
    "       'Deaths': [deaths_us],\n",
    "       'Mortality Rate': [us_MR]}\n",
    "us_data = pd.DataFrame(data)\n",
    "\n",
    "# Output Daily Data\n",
    "#us_data.to_csv(OUTPUT+'cases_us'+fdate+'.csv', index=False)"
   ]
  },
  {
   "cell_type": "code",
   "execution_count": 6,
   "metadata": {},
   "outputs": [],
   "source": [
    "# Extract data for NY State cases\n",
    "# URL\n",
    "# 1 Request URL\n",
    "url = 'https://www.health.ny.gov/diseases/communicable/coronavirus'\n",
    "page = requests.get(url)\n",
    "# 2 Parse HTML content\n",
    "soup = BeautifulSoup(page.text, 'html.parser')\n",
    "# 3 Create a data dictionary to store the data\n",
    "data = {}\n",
    "#Get the table having the class country table\n",
    "table = soup.find(\"table\", attrs={\"id\": \"case_count_table\"})\n",
    "table_data = table.find_all(\"tr\")  \n",
    "# Get all the headings of Lists\n",
    "df = []\n",
    "for i in range(0,len(table_data)):\n",
    "    for td in table_data[i].find_all(\"td\"):\n",
    "        # remove any newlines and extra spaces from left and right\n",
    "        df.append(td.text.replace('\\n', ' ').strip())\n",
    "        \n",
    "\n",
    "\n",
    "counties = pd.DataFrame([])\n",
    "for i in range(0, len(df), 2):\n",
    "    counties = counties.append(pd.DataFrame({'County': df[i], 'Cases': df[i+1]},\n",
    "                                              index =[0]), ignore_index=True)\n",
    "\n",
    "    \n",
    "# NY state Modification for Counties and State Tables\n",
    "nys = counties[-3:]\n",
    "counties_cases = counties[0:-3]\n",
    "# Total state cases for print\n",
    "cases_nys = pd.to_numeric(counties.iloc[-1,1])\n",
    "#Erie County\n",
    "erie = counties[counties['County']=='Erie'].reset_index()\n",
    "cases_erie = pd.to_numeric(erie.Cases[0])\n",
    "\n",
    "#counties.to_csv(OUTPUT+'cases_nys'+fdate+'.csv', index=False)\n",
    "#counties_cases.to_csv(OUTPUT+'cases_ny_counties'+fdate+'.csv', index=False)"
   ]
  },
  {
   "cell_type": "code",
   "execution_count": null,
   "metadata": {},
   "outputs": [],
   "source": []
  },
  {
   "cell_type": "markdown",
   "metadata": {},
   "source": [
    "# Situation\n",
    "<hr>"
   ]
  },
  {
   "cell_type": "code",
   "execution_count": 8,
   "metadata": {},
   "outputs": [
    {
     "data": {
      "text/markdown": [
       "<font size=\"5\"><soft>New York State currently has: 729 COVID-19 cases as of 15:57:20 03-15-2020.</soft></font>"
      ],
      "text/plain": [
       "<IPython.core.display.Markdown object>"
      ]
     },
     "metadata": {},
     "output_type": "display_data"
    },
    {
     "data": {
      "text/markdown": [
       "<font size=\"5\"><soft>Erie County: 3 confirmed cases of COVID-19.</soft></font>"
      ],
      "text/plain": [
       "<IPython.core.display.Markdown object>"
      ]
     },
     "metadata": {},
     "output_type": "display_data"
    },
    {
     "name": "stdout",
     "output_type": "stream",
     "text": [
      "\n",
      "\n"
     ]
    },
    {
     "data": {
      "text/markdown": [
       "<font size=\"2\"><soft>Reported cases as of: 15:57:20 03-15-2020.</soft></font>"
      ],
      "text/plain": [
       "<IPython.core.display.Markdown object>"
      ]
     },
     "metadata": {},
     "output_type": "display_data"
    }
   ],
   "source": [
    "display(Markdown('<font size=\"5\"><soft>New York State currently has: {} COVID-19 cases as of {} {}.</soft></font>'.format(cases_nys, time, fdate)))\n",
    "display(Markdown('<font size=\"5\"><soft>Erie County: {} confirmed cases of COVID-19.</soft></font>'.format(cases_erie)))\n",
    "print('\\n')\n",
    "# display(Markdown('<font size=\"3\"><soft>Kaleida: 0 Reported/Confirmed cases of COVID-19.</soft></font>'))\n",
    "# display(Markdown('<font size=\"3\"><soft>ECMC: 0 Reported/Confirmed cases of COVID-19.</soft></font>'))\n",
    "# display(Markdown('<font size=\"3\"><soft>Catholic Health: 0 Reported/Confirmed cases of COVID-19.</soft></font>')) \n",
    "# print('\\n')\n",
    "display(Markdown('<font size=\"2\"><soft>Reported cases as of: {} {}.</soft></font>'.format(time, fdate)))"
   ]
  },
  {
   "cell_type": "markdown",
   "metadata": {},
   "source": [
    "<hr>\n",
    "# Background\n",
    "<hr>"
   ]
  },
  {
   "cell_type": "code",
   "execution_count": null,
   "metadata": {},
   "outputs": [],
   "source": [
    "display(Markdown('<font size=\"4\"><soft>Incubation, Exposure and Symptom Development</soft></font>'))\n",
    "display(Markdown('<font size=\"3\"><soft>2-14 days represents the current official estimated incubation period range.</soft></font>'))\n",
    "display(Markdown('<font size=\"3\"><soft>The median incubation period has been estimated to be 5.1 days (95% CI, 4.5 - 5.8 days).</soft></font>'))\n",
    "display(Markdown('<font size=\"3\"><soft>97.5% of those who develop symptoms will do so within 11.5 days (CI, 8.2 - 15.6 days).</soft></font>'))\n",
    "display(Markdown('<font size=\"3\"><soft>101 out of every 10 000 cases (99th percentile, 482) will develop symptoms after 14 days of active monitoring or quarantine.</soft></font>'))\n",
    "print('\\n')\n",
    "display(Markdown('<font size=\"4\"><soft>Disease Transmission and Doubling Rate</soft></font>'))\n",
    "display(Markdown('<font size=\"3\"><soft>Variable range of 3-9 days depending upon the country’s medical infrastructure, geography and population density.</soft></font>'))\n",
    "print('\\n')\n",
    "display(Markdown('<font size=\"2\"><soft>Data updated: 3/10/2020.</soft></font>'))"
   ]
  },
  {
   "cell_type": "markdown",
   "metadata": {},
   "source": [
    "<hr>\n",
    "# Global\n",
    "<hr>"
   ]
  },
  {
   "cell_type": "code",
   "execution_count": null,
   "metadata": {},
   "outputs": [],
   "source": [
    "# Display values\n",
    "display(Markdown('<font size=\"3\"><soft>The calculated mean mortality rate for the top 10 affected countries is: {} percent.</soft></font>'.format('%.2f'%mean_MR)))"
   ]
  },
  {
   "cell_type": "code",
   "execution_count": null,
   "metadata": {},
   "outputs": [],
   "source": [
    "# # Table of top 10 affected countries/other\n",
    "# df1 = countries[0:9]\n",
    "\n",
    "# fig = go.Figure(data=[go.Table(header=dict(values=['Country/Other', 'Total Cases', 'New Cases', 'Total Deaths',\n",
    "#                                                    'Rate per 1 Million Population', 'Mortality Rate %']),\n",
    "#                  cells=dict(values=[df1['Country/Other'],df1['Total Cases'], df1['New Cases'], df1['Total Deaths'],\n",
    "#                                    df1['Rate 1M Pop'], df1['Mor_Rate']]))\n",
    "#                      ])\n",
    "\n",
    "# fig.update_layout(\n",
    "#     title='Countries with highest cases of COVID-19')\n",
    "# fig.update_layout(height=425)\n",
    "# fig.show()"
   ]
  },
  {
   "cell_type": "code",
   "execution_count": null,
   "metadata": {},
   "outputs": [],
   "source": [
    "# Table of all countries with mortality rate\n",
    "class MyDataTable(v.VuetifyTemplate):\n",
    "    headers = List([\n",
    "        {'text': 'Country', 'sortable':  True, 'value': 'Country/Other', 'align':'left'},\n",
    "        {'text': 'Total Cases', 'sortable':  True, 'value': 'Total Cases', 'align':'right'},\n",
    "        {'text': 'New Cases', 'sortable':  True, 'value': 'New Cases', 'align':'right'},\n",
    "        {'text': 'Total Deaths', 'sortable':  True, 'value': 'Total Deaths', 'align':'right'},\n",
    "        {'text': 'New Deaths', 'sortable':  True, 'value': 'New Deaths', 'align':'right'},\n",
    "        {'text': 'Rate per 1 Million Population', 'sortable':  True, 'value': 'Rate 1M Pop', 'align':'right'},\n",
    "        {'text': 'Mortality Rate', 'sortable':  True, 'value': 'Mor_Rate', 'align':'right'},\n",
    "    ]).tag(sync=True)\n",
    "\n",
    "    items = List(countries.to_dict(orient='records')).tag(sync=True)\n",
    "\n",
    "    template = Unicode('''\n",
    "        <v-data-table\n",
    "            :headers=\"headers\"\n",
    "            :items=\"items\"\n",
    "            class=\"elevation-1\"\n",
    "        >\n",
    "            <template v-slot:items=\"props\">\n",
    "                <td>{{ props.item.Name }}</td>\n",
    "                <td class=\"text-xs-right\">{{ props.item.Country }}</td>\n",
    "            </template>\n",
    "        </v-data-table>\n",
    "    ''').tag(sync=True)\n",
    "\n",
    "MyDataTable()"
   ]
  },
  {
   "cell_type": "code",
   "execution_count": null,
   "metadata": {},
   "outputs": [],
   "source": [
    "display(Markdown('<font size=\"2\"><soft>Reported cases as of: {} {}.</soft></font>'.format(time, fdate)))\n",
    "display(Markdown('<font size=\"2\"><soft>Sources:</soft></font>'))\n",
    "display(Markdown('<font size=\"2\"><soft>https://www.worldometers.info/coronavirus/</soft></font>'))"
   ]
  },
  {
   "cell_type": "markdown",
   "metadata": {},
   "source": [
    "<hr>\n",
    "# United States\n",
    "<hr>"
   ]
  },
  {
   "cell_type": "code",
   "execution_count": null,
   "metadata": {},
   "outputs": [],
   "source": [
    "# General US data"
   ]
  },
  {
   "cell_type": "code",
   "execution_count": null,
   "metadata": {},
   "outputs": [],
   "source": [
    "# # Table of cases in the US\n",
    "# fig = go.Figure(data=[go.Table(header=dict(values=['Total Cases', 'Total Deaths', 'Mortality Rate %']),\n",
    "#                  cells=dict(values=[cases_us, deaths_us, us_MR]))\n",
    "#                      ])\n",
    "\n",
    "# fig.update_layout(\n",
    "#     title='Cases of COVID-19 in the United States')\n",
    "# fig.update_layout(height=250)\n",
    "# fig.show()"
   ]
  },
  {
   "cell_type": "code",
   "execution_count": null,
   "metadata": {},
   "outputs": [],
   "source": [
    "# US Data Table\n",
    "class MyDataTable(v.VuetifyTemplate):\n",
    "    headers = List([\n",
    "        {'text': 'Total US Cases', 'value': 'Cases', 'align': 'center'},\n",
    "        {'text': 'Total Deaths', 'value': 'Deaths', 'align': 'center'},\n",
    "        {'text': 'Mortality Rate', 'value': 'Mortality Rate', 'align': 'center'}\n",
    "    ]).tag(sync=True)\n",
    "\n",
    "    items = List(us_data.to_dict(orient='records')).tag(sync=True)\n",
    "\n",
    "    template = Unicode('''\n",
    "        <v-data-table\n",
    "            :headers=\"headers\"\n",
    "            :items=\"items\"\n",
    "            class=\"elevation-1\"\n",
    "        >\n",
    "            <template v-slot:items=\"props\">\n",
    "                <td>{{ props.item.Name }}</td>\n",
    "                <td class=\"text-xs-right\">{{ props.item.Cases }}</td>\n",
    "            </template>\n",
    "        </v-data-table>\n",
    "    ''').tag(sync=True)\n",
    "\n",
    "MyDataTable()"
   ]
  },
  {
   "cell_type": "code",
   "execution_count": null,
   "metadata": {},
   "outputs": [],
   "source": [
    "display(Markdown('<font size=\"2\"><soft>Reported cases as of: {} {}.</soft></font>'.format(time, fdate)))\n",
    "display(Markdown('<font size=\"2\"><soft>Sources:</soft></font>'))\n",
    "display(Markdown('<font size=\"2\"><soft>https://www.cdc.gov/coronavirus/2019-ncov/cases-in-us.html</soft></font>'))"
   ]
  },
  {
   "cell_type": "markdown",
   "metadata": {},
   "source": [
    "<hr>\n",
    "# New York State\n",
    "<hr>"
   ]
  },
  {
   "cell_type": "code",
   "execution_count": null,
   "metadata": {},
   "outputs": [],
   "source": [
    "# NY State General"
   ]
  },
  {
   "cell_type": "code",
   "execution_count": null,
   "metadata": {},
   "outputs": [],
   "source": []
  },
  {
   "cell_type": "code",
   "execution_count": null,
   "metadata": {},
   "outputs": [],
   "source": [
    "# fig = go.Figure(data=[go.Table(header=dict(values=['New York State', 'Cases']),\n",
    "#                  cells=dict(values=[nys['County'],nys['Cases']]))\n",
    "#                      ])\n",
    "\n",
    "# fig.update_layout(\n",
    "#     title='New York State Cases of COVID-19')\n",
    "\n",
    "# fig.show()"
   ]
  },
  {
   "cell_type": "code",
   "execution_count": null,
   "metadata": {},
   "outputs": [],
   "source": [
    "class MyDataTable(v.VuetifyTemplate):\n",
    "    headers = List([\n",
    "        {'text': 'New York', 'sortable':  True, 'value': 'County'},\n",
    "        {'text': 'Cases', 'value': 'Cases', 'align': 'right'}\n",
    "    ]).tag(sync=True)\n",
    "\n",
    "    items = List(nys.to_dict(orient='records')).tag(sync=True)\n",
    "\n",
    "    template = Unicode('''\n",
    "        <v-data-table\n",
    "            :headers=\"headers\"\n",
    "            :items=\"items\"\n",
    "            class=\"elevation-1\"\n",
    "        >\n",
    "            <template v-slot:items=\"props\">\n",
    "                <td>{{ props.item.Name }}</td>\n",
    "                <td class=\"text-xs-right\">{{ props.item.Cases }}</td>\n",
    "            </template>\n",
    "        </v-data-table>\n",
    "    ''').tag(sync=True)\n",
    "\n",
    "MyDataTable()"
   ]
  },
  {
   "cell_type": "code",
   "execution_count": null,
   "metadata": {},
   "outputs": [],
   "source": [
    "# Counties"
   ]
  },
  {
   "cell_type": "code",
   "execution_count": null,
   "metadata": {},
   "outputs": [],
   "source": [
    "# fig = go.Figure(data=[go.Table(header=dict(values=['New York State', 'Cases']),\n",
    "#                  cells=dict(values=[counties_cases['County'],counties_cases['Cases']]))\n",
    "#                      ])\n",
    "\n",
    "# fig.update_layout(\n",
    "#     title='New York Counties Cases of COVID-19')\n",
    "# fig.show()"
   ]
  },
  {
   "cell_type": "code",
   "execution_count": null,
   "metadata": {},
   "outputs": [],
   "source": [
    "class MyDataTable(v.VuetifyTemplate):\n",
    "    headers = List([\n",
    "        {'text': 'County', 'sortable':  True, 'value': 'County'},\n",
    "        {'text': 'Cases', 'value': 'Cases', 'align': 'right'}\n",
    "    ]).tag(sync=True)\n",
    "\n",
    "    items = List(counties_cases.to_dict(orient='records')).tag(sync=True)\n",
    "\n",
    "    template = Unicode('''\n",
    "        <v-data-table\n",
    "            :headers=\"headers\"\n",
    "            :items=\"items\"\n",
    "            class=\"elevation-1\"\n",
    "        >\n",
    "            <template v-slot:items=\"props\">\n",
    "                <td>{{ props.item.Name }}</td>\n",
    "                <td class=\"text-xs-right\">{{ props.item.Cases }}</td>\n",
    "            </template>\n",
    "        </v-data-table>\n",
    "    ''').tag(sync=True)\n",
    "\n",
    "MyDataTable()"
   ]
  },
  {
   "cell_type": "code",
   "execution_count": null,
   "metadata": {},
   "outputs": [],
   "source": [
    "display(Markdown('<font size=\"2\"><soft>Reported cases as of: {} {}.</soft></font>'.format(time, fdate)))\n",
    "display(Markdown('<font size=\"2\"><soft>Sources:</soft></font>'))\n",
    "display(Markdown('<font size=\"2\"><soft>https://www.health.ny.gov/diseases/communicable/coronavirus/</soft></font>'))"
   ]
  },
  {
   "cell_type": "markdown",
   "metadata": {},
   "source": [
    "<hr>\n",
    "# Age, Gender and Comorbidities\n",
    "<hr>"
   ]
  },
  {
   "cell_type": "code",
   "execution_count": null,
   "metadata": {},
   "outputs": [],
   "source": [
    "# # Mortality Rate by age categories\n",
    "# age_cats = ['80+ years old', '70-79 years old', '60-69 years old', '50-59 years old', '40-49 years old',\n",
    "#            '30-39 years old', '20-29 years old', '10-19 years old', '0-9 years old']\n",
    "# deaths_confirmed = ['21.9%']\n",
    "# deaths_all = ['14.8%', '8.0%', '3.6%', '1.3%', '0.4%', '0.2%', '0.2%', '0.2%', 'No Fatalities']\n",
    "\n",
    "# fig = go.Figure(data=[go.Table(header=dict(values=['Age', 'Death Rate (Confirmed Cases)', 'Death Rate(All Cases)']),\n",
    "#                  cells=dict(values=[age_cats, deaths_confirmed, deaths_all]))\n",
    "#                      ])\n",
    "\n",
    "# fig.update_layout(\n",
    "#     title='Fatality Rate by Age Groups')\n",
    "# fig.update_layout(height=400)\n",
    "# fig.show()"
   ]
  },
  {
   "cell_type": "code",
   "execution_count": null,
   "metadata": {},
   "outputs": [],
   "source": [
    "# Create table of Age categories\n",
    "data = {\n",
    "'age_cats' : ['80+ years old', '70-79 years old', '60-69 years old', '50-59 years old', '40-49 years old',\n",
    "            '30-39 years old', '20-29 years old', '10-19 years old', '0-9 years old'], \n",
    "'deaths_confirmed' : ['21.9%', None, None, None, None, None, None, None, None],\n",
    "'deaths_all' : ['14.8%', '8.0%', '3.6%', '1.3%', '0.4%', '0.2%', '0.2%', '0.2%', 'No Fatalities']\n",
    "}\n",
    "age_data = pd.DataFrame(data)"
   ]
  },
  {
   "cell_type": "code",
   "execution_count": null,
   "metadata": {},
   "outputs": [],
   "source": [
    "# Age- Specific data\n",
    "class MyDataTable(v.VuetifyTemplate):\n",
    "    headers = List([\n",
    "        {'text': 'Age Category', 'value': 'age_cats', 'align': 'center'},\n",
    "        {'text': 'Deaths (Confirmed Cases)', 'value': 'deaths_confirmed', 'align': 'center'},\n",
    "        {'text': 'Deaths (All Cases)', 'value': 'deaths_all', 'align': 'center'}\n",
    "    ]).tag(sync=True)\n",
    "\n",
    "    items = List(age_data.to_dict(orient='records')).tag(sync=True)\n",
    "\n",
    "    template = Unicode('''\n",
    "        <v-data-table\n",
    "            :headers=\"headers\"\n",
    "            :items=\"items\"\n",
    "            class=\"elevation-1\"\n",
    "        >\n",
    "            <template v-slot:items=\"props\">\n",
    "                <td>{{ props.item.Name }}</td>\n",
    "                <td class=\"text-xs-right\">{{ props.item.age_cats }}</td>\n",
    "            </template>\n",
    "        </v-data-table>\n",
    "    ''').tag(sync=True)\n",
    "\n",
    "MyDataTable()"
   ]
  },
  {
   "cell_type": "code",
   "execution_count": null,
   "metadata": {},
   "outputs": [],
   "source": [
    "# Create gender table\n",
    "data={'gender' : ['Male', 'Female'],\n",
    "'deaths_confirmed' : ['4.7%', '2.8%'],\n",
    "'deaths_all' : ['2.8%', '1.7%']}\n",
    "gender_data = pd.DataFrame(data)"
   ]
  },
  {
   "cell_type": "code",
   "execution_count": null,
   "metadata": {},
   "outputs": [],
   "source": [
    "# Gener specific Data\n",
    "\n",
    "# gender = ['Male', 'Female']\n",
    "# deaths_confirmed = ['4.7%', '2.8%']\n",
    "# deaths_all = ['2.8%', '1.7%']\n",
    "\n",
    "# fig = go.Figure(data=[go.Table(header=dict(values=['Sex', 'Death Rate (Confirmed Cases)', 'Death Rate(All Cases)']),\n",
    "#                  cells=dict(values=[gender, deaths_confirmed, deaths_all]))\n",
    "#                      ])\n",
    "\n",
    "# fig.update_layout(\n",
    "#     title='Fatality Rate by Sex')\n",
    "# fig.update_layout(height=250)\n",
    "# fig.show()"
   ]
  },
  {
   "cell_type": "code",
   "execution_count": null,
   "metadata": {},
   "outputs": [],
   "source": [
    "# Gender table  data\n",
    "class MyDataTable(v.VuetifyTemplate):\n",
    "    headers = List([\n",
    "        {'text': 'Gender', 'value': 'gender', 'align': 'center'},\n",
    "        {'text': 'Death Rate (Confirmed Cases)', 'value': 'deaths_confirmed', 'align': 'center'},\n",
    "        {'text': 'Deaths (All Cases)', 'value': 'deaths_all', 'align': 'center'}\n",
    "    ]).tag(sync=True)\n",
    "\n",
    "    items = List(gender_data.to_dict(orient='records')).tag(sync=True)\n",
    "\n",
    "    template = Unicode('''\n",
    "        <v-data-table\n",
    "            :headers=\"headers\"\n",
    "            :items=\"items\"\n",
    "            class=\"elevation-1\"\n",
    "        >\n",
    "            <template v-slot:items=\"props\">\n",
    "                <td>{{ props.item.Name }}</td>\n",
    "                <td class=\"text-xs-right\">{{ props.item.age_cats }}</td>\n",
    "            </template>\n",
    "        </v-data-table>\n",
    "    ''').tag(sync=True)\n",
    "\n",
    "MyDataTable()"
   ]
  },
  {
   "cell_type": "code",
   "execution_count": null,
   "metadata": {},
   "outputs": [],
   "source": [
    "# create table of comorbidities\n",
    "data={'comor' : ['Cardiovascular Disease', 'Diabetes', 'Chronic Respiratory Disease', 'Hypertension', 'Cancer',\n",
    "           'No Pre-Existing Conditions'],\n",
    "'deaths_confirmed' : ['13.2%', '9.2%', '8.0%', '8.4%', '7.6%', None],\n",
    "'deaths_all' : ['10.5%', '7.3%', '6.3%', '6.0%', '5.6%', '0.9%']\n",
    "     }\n",
    "comor_data = pd.DataFrame(data)"
   ]
  },
  {
   "cell_type": "code",
   "execution_count": null,
   "metadata": {},
   "outputs": [],
   "source": [
    "# # Mortality Rate by comorbidities\n",
    "# comor = ['Cardiovascular Disease', 'Diabetes', 'Chronic Respiratory Disease', 'Hypertension', 'Cancer',\n",
    "#            'No Pre-Existing Conditions']\n",
    "# deaths_confirmed = ['13.2%', '9.2%', '8.0%', '8.4%', '7.6%']\n",
    "# deaths_all = ['10.5%', '7.3%', '6.3%', '6.0%', '5.6%', '0.9%']\n",
    "\n",
    "# fig = go.Figure(data=[go.Table(header=dict(values=['Pre-Existing Condition', 'Death Rate (Confirmed Cases)', 'Death Rate(All Cases)']),\n",
    "#                  cells=dict(values=[comor, deaths_confirmed, deaths_all]))\n",
    "#                      ])\n",
    "\n",
    "# fig.update_layout(\n",
    "#     title='Fatality Rate by Comorbidities')\n",
    "# fig.update_layout(height=500)\n",
    "# fig.show()"
   ]
  },
  {
   "cell_type": "code",
   "execution_count": null,
   "metadata": {},
   "outputs": [],
   "source": [
    "# Commorbidities Table\n",
    "class MyDataTable(v.VuetifyTemplate):\n",
    "    headers = List([\n",
    "        {'text': 'Pre-existing Condition', 'value': 'comor', 'align': 'center'},\n",
    "        {'text': 'Death Rate (Confirmed Cases)', 'value': 'deaths_confirmed', 'align': 'center'},\n",
    "        {'text': 'Deaths (All Cases)', 'value': 'deaths_all', 'align': 'center'}\n",
    "    ]).tag(sync=True)\n",
    "\n",
    "    items = List(comor_data.to_dict(orient='records')).tag(sync=True)\n",
    "\n",
    "    template = Unicode('''\n",
    "        <v-data-table\n",
    "            :headers=\"headers\"\n",
    "            :items=\"items\"\n",
    "            class=\"elevation-1\"\n",
    "        >\n",
    "            <template v-slot:items=\"props\">\n",
    "                <td>{{ props.item.Name }}</td>\n",
    "                <td class=\"text-xs-right\">{{ props.item.age_cats }}</td>\n",
    "            </template>\n",
    "        </v-data-table>\n",
    "    ''').tag(sync=True)\n",
    "\n",
    "MyDataTable()"
   ]
  },
  {
   "cell_type": "markdown",
   "metadata": {},
   "source": [
    "<hr>\n",
    "# Cruise Ships Data\n",
    "<hr>"
   ]
  },
  {
   "cell_type": "code",
   "execution_count": null,
   "metadata": {},
   "outputs": [],
   "source": [
    "# Create dataset\n",
    "data = {'Cruise Ship':['Diamond Princess', 'World Dream', 'MS Westerdam', 'Grand Princess', 'Nile River'],\n",
    "        'Date': ['2/5/20-3/1/20', '1/19/20-1/24/20', '2/1/20-2/13/20', '2/11/20-3/9/20', 'null'],\n",
    "        'Location': ['Yokohoma, Japan', 'Hong Kong, China', 'Sihanoukville, Cambodia', 'Oakland, USA', 'null'],\n",
    "        'Passengers': [3618, 3800, 650, 3533, 171],\n",
    "        'Cases': [696, 3, 1, 21, 45],\n",
    "        'Recovered': [245, None , 1, None , None],\n",
    "        'Deaths': [7, None, None, 1, None]\n",
    "       } \n",
    "cruise = pd.DataFrame(data)\n",
    "cruise['Mortality Rate'] = round((cruise['Deaths']/cruise['Cases'])*100,2)"
   ]
  },
  {
   "cell_type": "code",
   "execution_count": null,
   "metadata": {},
   "outputs": [],
   "source": [
    "# fig = go.Figure(data=[go.Table(header=dict(values=['Cruise Ship', 'Location', 'Passengers', 'Cases', 'Recovered',\n",
    "#                                                   'Deaths', 'Mortality Rate %']),\n",
    "#                  cells=dict(values=[cruise['Cruise Ship'], cruise['Location'], cruise['Passengers'],\n",
    "#                                    cruise['Cases'], cruise['Recovered'], cruise['Deaths'], cruise['Mortality Rate']]))\n",
    "#                      ])\n",
    "\n",
    "# fig.update_layout(\n",
    "#     title='Cruise Ships COVID-19 Cases')\n",
    "# fig.update_layout(height=500)\n",
    "# fig.show()"
   ]
  },
  {
   "cell_type": "code",
   "execution_count": null,
   "metadata": {},
   "outputs": [],
   "source": [
    "# Cruise data\n",
    "class MyDataTable(v.VuetifyTemplate):\n",
    "    headers = List([\n",
    "        {'text': 'Cruise Ship', 'value': 'Cruise Ship', 'align': 'center'},\n",
    "        {'text': 'Location', 'value': 'Location', 'align': 'center'},\n",
    "        {'text': 'Passengers', 'value': 'Passengers', 'align': 'center'},\n",
    "        {'text': 'Cases', 'value': 'Cases', 'align': 'center'},\n",
    "        {'text': 'Recovered', 'value': 'Recovered', 'align': 'center'},\n",
    "        {'text': 'Deaths', 'value': 'Deaths', 'align': 'center'},\n",
    "        {'text': 'Mortality Rate %', 'value': 'Mortality Rate', 'align': 'center'}\n",
    "    ]).tag(sync=True)\n",
    "\n",
    "    items = List(cruise.to_dict(orient='records')).tag(sync=True)\n",
    "\n",
    "    template = Unicode('''\n",
    "        <v-data-table\n",
    "            :headers=\"headers\"\n",
    "            :items=\"items\"\n",
    "            class=\"elevation-1\"\n",
    "        >\n",
    "            <template v-slot:items=\"props\">\n",
    "                <td>{{ props.item.Name }}</td>\n",
    "                <td class=\"text-xs-right\">{{ props.item.age_cats }}</td>\n",
    "            </template>\n",
    "        </v-data-table>\n",
    "    ''').tag(sync=True)\n",
    "\n",
    "MyDataTable()"
   ]
  },
  {
   "cell_type": "markdown",
   "metadata": {},
   "source": [
    "Sources\n",
    "https://www.worldometers.info/coronavirus/coronavirus-incubation-period/\n",
    "Lauer SA, Grantz KH, Bi Q, et al. The Incubation Period of Coronavirus Disease 2019 (COVID-19) From Publicly Reported Confirmed Cases: Estimation and Application. Ann Intern Med. 2020; [Epub ahead of print 10 March 2020]. doi: https://doi.org/10.7326/M20-0504\n",
    "http://www.centerforhealthsecurity.org/resources/COVID-19/index.html\n",
    "http://www.centerforhealthsecurity.org/resources/fact-sheets/pdfs/coronaviruses.pdf'\n",
    "https://coronavirus.jhu.edu/\n",
    "https://www.who.int/emergencies/diseases/novel-coronavirus-2019/situation-reports\n",
    "https://www.worldometers.info/coronavirus/coronavirus-age-sex-demographics/"
   ]
  }
 ],
 "metadata": {
  "kernelspec": {
   "display_name": "Python 3",
   "language": "python",
   "name": "python3"
  },
  "language_info": {
   "codemirror_mode": {
    "name": "ipython",
    "version": 3
   },
   "file_extension": ".py",
   "mimetype": "text/x-python",
   "name": "python",
   "nbconvert_exporter": "python",
   "pygments_lexer": "ipython3",
   "version": "3.8.1"
  }
 },
 "nbformat": 4,
 "nbformat_minor": 4
}
